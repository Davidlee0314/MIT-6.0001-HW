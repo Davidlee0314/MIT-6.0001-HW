{
 "cells": [
  {
   "cell_type": "code",
   "execution_count": 7,
   "metadata": {},
   "outputs": [
    {
     "name": "stdout",
     "output_type": "stream",
     "text": [
      "Enter a word: sa\n",
      "Input: sa\n",
      "Expected Output: ['abc', 'acb', 'bac', 'bca', 'cab', 'cba']\n",
      "Actual Output: ['sa', 'as']\n"
     ]
    }
   ],
   "source": [
    "# %load ps4b\n",
    "# Problem Set 4B\n",
    "# Name: <your name here>\n",
    "# Collaborators:\n",
    "# Time Spent: x:xx\n",
    "\n",
    "'''\n",
    "Enumerate all permutations of a given string\n",
    "\n",
    "sequence (string): an arbitrary string to permute. Assume that it is a\n",
    "non-empty string.  \n",
    "\n",
    "You MUST use recursion for this part. Non-recursive solutions will not be\n",
    "accepted.\n",
    "\n",
    "Returns: a list of all permutations of sequence\n",
    "\n",
    "Example:\n",
    ">>> get_permutations('abc')\n",
    "['abc', 'acb', 'bac', 'bca', 'cab', 'cba']\n",
    "\n",
    "Note: depending on your implementation, you may return the permutations in\n",
    "a different order than what is listed here.\n",
    "'''\n",
    "\n",
    "def get_permutation(word):\n",
    "    word2 = list(word)\n",
    "    combination = []\n",
    "    \n",
    "    if len(word) == 2:\n",
    "        a = \"\".join(word)\n",
    "        b = \"\".join(word[::-1])\n",
    "        return [a, b]\n",
    "        \n",
    "    else:\n",
    "        for letter in word2:\n",
    "            word = word2[:]\n",
    "            del word[word.index(letter)]\n",
    "            word_remain = \"\".join(word)\n",
    "\n",
    "            \n",
    "            for w in get_permutation(word_remain):\n",
    "                combination.append(letter + w)\n",
    "                \n",
    "        return combination\n",
    "    \n",
    "    \n",
    "\n",
    "if __name__ == '__main__':\n",
    "    word = input(\"Enter a word: \")\n",
    "    print('Input:', word)\n",
    "    print('Expected Output:', ['abc', 'acb', 'bac', 'bca', 'cab', 'cba'])\n",
    "    print('Actual Output:',get_permutation(word))\n",
    "    \n",
    "\n"
   ]
  }
 ],
 "metadata": {
  "kernelspec": {
   "display_name": "Python 3",
   "language": "python",
   "name": "python3"
  },
  "language_info": {
   "codemirror_mode": {
    "name": "ipython",
    "version": 3
   },
   "file_extension": ".py",
   "mimetype": "text/x-python",
   "name": "python",
   "nbconvert_exporter": "python",
   "pygments_lexer": "ipython3",
   "version": "3.6.1"
  }
 },
 "nbformat": 4,
 "nbformat_minor": 2
}
